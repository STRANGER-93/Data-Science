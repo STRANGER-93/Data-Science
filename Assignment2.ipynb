{
 "cells": [
  {
   "cell_type": "markdown",
   "metadata": {},
   "source": [
    "### 1. Matrix Operation\n",
    "Perform the following operations on the given matrices:\n",
    "\n",
    "A=[[2    -1], [​0    3​]]\n",
    "\n",
    "B=[[1   ​ 2], [-3      4​]]\n"
   ]
  },
  {
   "cell_type": "code",
   "execution_count": 1,
   "metadata": {},
   "outputs": [
    {
     "name": "stdout",
     "output_type": "stream",
     "text": [
      "Matrix A:\n",
      "[[ 2 -1]\n",
      " [ 0  3]]\n",
      "(2, 2)\n",
      "Matrix B:\n",
      "[[ 1  2]\n",
      " [-3  4]]\n",
      "(2, 2)\n"
     ]
    }
   ],
   "source": [
    "import numpy as np\n",
    "\n",
    "# Representation of matrices using numpy\n",
    "A = np.array([[2, -1], [0, 3]])\n",
    "B = np.array([[1, 2], [-3, 4]])\n",
    "\n",
    "print(\"Matrix A:\")\n",
    "print(A)\n",
    "print(A.shape)\n",
    "\n",
    "print(\"Matrix B:\")\n",
    "print(B)\n",
    "print(B.shape)"
   ]
  },
  {
   "cell_type": "markdown",
   "metadata": {},
   "source": [
    "#### a. A + B\n"
   ]
  },
  {
   "cell_type": "code",
   "execution_count": 2,
   "metadata": {},
   "outputs": [
    {
     "name": "stdout",
     "output_type": "stream",
     "text": [
      "Matrix A + B:\n",
      "[[ 3  1]\n",
      " [-3  7]]\n"
     ]
    }
   ],
   "source": [
    "C = A + B\n",
    "print(\"Matrix A + B:\")\n",
    "print(C)"
   ]
  },
  {
   "cell_type": "markdown",
   "metadata": {},
   "source": [
    "### b. AB"
   ]
  },
  {
   "cell_type": "code",
   "execution_count": 3,
   "metadata": {},
   "outputs": [
    {
     "name": "stdout",
     "output_type": "stream",
     "text": [
      "Matrix AB (Product):\n",
      "[[ 5  0]\n",
      " [-9 12]]\n"
     ]
    }
   ],
   "source": [
    "\n",
    "D = np.dot(A, B)  \n",
    "print(\"Matrix AB (Product):\")\n",
    "print(D)"
   ]
  },
  {
   "cell_type": "markdown",
   "metadata": {},
   "source": [
    "#### c. 3A-2B"
   ]
  },
  {
   "cell_type": "code",
   "execution_count": 4,
   "metadata": {},
   "outputs": [
    {
     "name": "stdout",
     "output_type": "stream",
     "text": [
      "Matrix 3A-2B:\n",
      "[[ 4 -7]\n",
      " [ 6  1]]\n"
     ]
    }
   ],
   "source": [
    "\n",
    "E= 3*A-2*B\n",
    "print(\"Matrix 3A-2B:\")\n",
    "print(E)"
   ]
  },
  {
   "cell_type": "markdown",
   "metadata": {},
   "source": [
    "### 2. Determinants and Inverses"
   ]
  },
  {
   "cell_type": "markdown",
   "metadata": {},
   "source": [
    "#### Determinant of A"
   ]
  },
  {
   "cell_type": "code",
   "execution_count": 5,
   "metadata": {},
   "outputs": [
    {
     "data": {
      "text/plain": [
       "np.float64(6.0)"
      ]
     },
     "execution_count": 5,
     "metadata": {},
     "output_type": "execute_result"
    }
   ],
   "source": [
    "\n",
    "import numpy.linalg as LA \n",
    "LA.det(A)"
   ]
  },
  {
   "cell_type": "markdown",
   "metadata": {},
   "source": [
    "#### Determine whether A is invertible. If yes, calculate A−1"
   ]
  },
  {
   "cell_type": "code",
   "execution_count": 6,
   "metadata": {},
   "outputs": [
    {
     "name": "stdout",
     "output_type": "stream",
     "text": [
      "Matrix A is invertible.\n",
      "Determinant of A: 6.0\n",
      "Inverse of A:\n",
      "[[0.5        0.16666667]\n",
      " [0.         0.33333333]]\n"
     ]
    }
   ],
   "source": [
    "if LA.det(A) != 0:\n",
    "    A_inv = LA.inv(A)\n",
    "    print(\"Matrix A is invertible.\")\n",
    "    print(\"Determinant of A:\", LA.det(A))\n",
    "    print(\"Inverse of A:\")\n",
    "    print(A_inv)\n",
    "else:\n",
    "    print(\"Matrix A is not invertible.\")"
   ]
  },
  {
   "cell_type": "markdown",
   "metadata": {},
   "source": [
    "### 3.Eigenvalues and Eigenvectors"
   ]
  },
  {
   "cell_type": "markdown",
   "metadata": {},
   "source": [
    "#### Compute the eigenvalues and eigenvectors of the matrix: \n",
    "#### C=[[4    1], [​−2       1]​]"
   ]
  },
  {
   "cell_type": "code",
   "execution_count": 7,
   "metadata": {},
   "outputs": [
    {
     "name": "stdout",
     "output_type": "stream",
     "text": [
      "Matrix C:\n",
      "[[ 4  1]\n",
      " [-2  1]]\n",
      "Eigenvalue:\n",
      "[2. 3.]\n",
      " Eigenvector:\n",
      "[[ 1.         -0.70710678]\n",
      " [ 0.          0.70710678]]\n"
     ]
    }
   ],
   "source": [
    "C = np.array([[4, 1], [-2, 1]])\n",
    "\n",
    "# Compute eigenvalues and eigenvectors\n",
    "eigenvalues, eigenvectors = np.linalg.eig(A)\n",
    "\n",
    "# Print the results\n",
    "print(\"Matrix C:\")\n",
    "print(C)\n",
    "print(\"Eigenvalue:\")\n",
    "print(eigenvalues)\n",
    "print(\" Eigenvector:\")\n",
    "print(eigenvectors)"
   ]
  },
  {
   "cell_type": "markdown",
   "metadata": {},
   "source": [
    "##### 4. \n",
    "You are given a dataset of cars with the following features:Number of cylinders (x1​)Engine size in liters (x2​)Horsepower (x3)\n",
    "car 1:\n",
    "x1: 4\n",
    "x2:  1.5\n",
    "x3: 100\n",
    "and price: 20\n",
    "\n",
    "car 2:\n",
    "x1: 6\n",
    "x2:  2.0\n",
    "x3: 150\n",
    "and price: 30\n",
    "\n",
    "Then, find the price of a car 3 with features\n",
    "x1: 8\n",
    "x2:  3.0\n",
    "x3: 200\n",
    "price:?"
   ]
  },
  {
   "cell_type": "code",
   "execution_count": 8,
   "metadata": {},
   "outputs": [
    {
     "name": "stdout",
     "output_type": "stream",
     "text": [
      "Coefficients (β): [-0.00079866  0.00798658  0.00159732  0.19966456]\n",
      "Predicted price of car 3: 40.000798658250474\n"
     ]
    }
   ],
   "source": [
    "X = np.array([[1, 4, 1.5, 100], [1, 6, 2.0, 150]])\n",
    "y = np.array([20, 30])\n",
    "\n",
    "beta = np.linalg.pinv(X.T @ X) @ X.T @ y\n",
    "\n",
    "x3 = np.array([1, 8, 3.0, 200])\n",
    "\n",
    "price_car3 = x3 @ beta\n",
    "\n",
    "print(\"Coefficients (β):\", beta)\n",
    "print(\"Predicted price of car 3:\", price_car3)"
   ]
  }
 ],
 "metadata": {
  "kernelspec": {
   "display_name": "Python 3",
   "language": "python",
   "name": "python3"
  },
  "language_info": {
   "codemirror_mode": {
    "name": "ipython",
    "version": 3
   },
   "file_extension": ".py",
   "mimetype": "text/x-python",
   "name": "python",
   "nbconvert_exporter": "python",
   "pygments_lexer": "ipython3",
   "version": "3.13.0"
  }
 },
 "nbformat": 4,
 "nbformat_minor": 2
}
